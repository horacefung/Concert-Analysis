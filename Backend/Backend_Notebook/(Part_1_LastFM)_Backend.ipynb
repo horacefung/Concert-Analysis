{
 "cells": [
  {
   "cell_type": "markdown",
   "metadata": {},
   "source": [
    "# Backend Database (Part 1: Lastfm)\n",
    "\n",
    "The foundation of our backend is to have an extensive list of artist and information relevant to them. We will use X different APIs to collect various information:\n",
    "\n",
    "1. **lastfm API to gather a long list of artists, mainly those popular in the US.**\n",
    "2. SeatGeek API to gather data on upcoming concerts, particularly ticket pricing and concert size.\n",
    "3. Scrape SeatGeek website for capacity information on concert venues.\n",
    "4. Songkick API to retrieve data on historical concerts.\n",
    "5. Scrape Billboard website for recent successful concerts. Includes information like revenue and attendance.\n"
   ]
  },
  {
   "cell_type": "markdown",
   "metadata": {},
   "source": [
    "**1. Use lastfm API to get a list of artists**"
   ]
  },
  {
   "cell_type": "code",
   "execution_count": 178,
   "metadata": {},
   "outputs": [],
   "source": [
    "import pandas as pd\n",
    "import requests\n",
    "from datetime import datetime\n",
    "import MySQLdb as mdb\n",
    "import sys"
   ]
  },
  {
   "cell_type": "code",
   "execution_count": 89,
   "metadata": {},
   "outputs": [],
   "source": [
    "#Get list of artist from lastfm API\n",
    "api_root_url = \"http://ws.audioscrobbler.com/2.0/\"\n",
    "url_params = \"?method=chart.gettopartists&api_key=d31531b394866cb9db67526b455f274b&format=json&limit=1000&page=\"\n",
    "\n",
    "url = api_root_url + url_params\n",
    "data = requests.get(url).json()"
   ]
  },
  {
   "cell_type": "code",
   "execution_count": 165,
   "metadata": {},
   "outputs": [],
   "source": [
    "def get_artist_lastfm(url):\n",
    "    artist_list = []\n",
    "    for i in range(1,11):\n",
    "        url2 = url + str(i)\n",
    "        data = requests.get(url2).json()\n",
    "        data = data['artists']['artist']\n",
    "        for j in range(len(data)):\n",
    "            dict_artist = {}\n",
    "            dict_artist['name'] = data[j]['name']\n",
    "            dict_artist['playcount'] = int(data[j]['playcount'])\n",
    "            dict_artist['image'] = data[j]['image'][-1]['#text'] #-1 gets the largest size\n",
    "            artist_list.append(dict_artist)\n",
    "    return artist_list"
   ]
  },
  {
   "cell_type": "code",
   "execution_count": 166,
   "metadata": {},
   "outputs": [],
   "source": [
    "artist_names = get_artist_lastfm(url)"
   ]
  },
  {
   "cell_type": "code",
   "execution_count": 187,
   "metadata": {},
   "outputs": [
    {
     "name": "stdout",
     "output_type": "stream",
     "text": [
      "Number of Artists:  9030\n"
     ]
    }
   ],
   "source": [
    "print('Number of Artists: ', len(artist_names))"
   ]
  },
  {
   "cell_type": "markdown",
   "metadata": {},
   "source": [
    "## Creating Lastfm Database"
   ]
  },
  {
   "cell_type": "code",
   "execution_count": 179,
   "metadata": {},
   "outputs": [],
   "source": [
    "#Connecting to MySQL database\n",
    "con = mdb.connect(host = 'localhost', \n",
    "                  user = 'root',\n",
    "                  passwd = '<password>', \n",
    "                  charset='utf8', use_unicode=True);"
   ]
  },
  {
   "cell_type": "code",
   "execution_count": 181,
   "metadata": {},
   "outputs": [],
   "source": [
    "# Run a query to create a database that will hold the data\n",
    "db_name = 'Project'\n",
    "create_db_query = \"CREATE DATABASE IF NOT EXISTS {db} DEFAULT CHARACTER SET 'utf8'\".format(db=db_name)\n",
    "\n",
    "# Create a database\n",
    "cursor = con.cursor()\n",
    "cursor.execute(create_db_query)\n",
    "cursor.close()"
   ]
  },
  {
   "cell_type": "code",
   "execution_count": 190,
   "metadata": {},
   "outputs": [],
   "source": [
    "#Create a table for lastfm\n",
    "cursor = con.cursor()\n",
    "table_name = 'lastfm'\n",
    "\n",
    "create_table_query = '''CREATE TABLE IF NOT EXISTS {db}.{table} \n",
    "                                (artist varchar(250), \n",
    "                                playcount int,\n",
    "                                image_url varchar(250),\n",
    "                                PRIMARY KEY(artist)\n",
    "                                )'''.format(db=db_name, table=table_name)\n",
    "cursor.execute(create_table_query)\n",
    "cursor.close()"
   ]
  },
  {
   "cell_type": "code",
   "execution_count": 192,
   "metadata": {},
   "outputs": [
    {
     "name": "stderr",
     "output_type": "stream",
     "text": [
      "/usr/local/lib/python3.5/dist-packages/ipykernel_launcher.py:21: Warning: (1062, \"Duplicate entry 'Rufus' for key 'PRIMARY'\")\n"
     ]
    }
   ],
   "source": [
    "#Insert artist data\n",
    "cursor = con.cursor()\n",
    "table_name = 'lastfm'\n",
    "\n",
    "query_template = '''INSERT IGNORE INTO {db}.{table}(artist, \n",
    "                                            playcount,\n",
    "                                            image_url) \n",
    "                                            VALUES (%s, %s, %s)'''.format(db=db_name, table=table_name)\n",
    "\n",
    "cursor = con.cursor()\n",
    "\n",
    "artist_names = artist_names\n",
    "\n",
    "for i in range(len(artist_names)):\n",
    "    artist = artist_names[i]['name']\n",
    "    playcount = artist_names[i]['playcount']\n",
    "    image_url = artist_names[i]['image']\n",
    "    \n",
    "    query_parameters = (artist, playcount, image_url)\n",
    "    cursor.execute(query_template, query_parameters)\n",
    "\n",
    "con.commit()\n",
    "cursor.close()"
   ]
  },
  {
   "cell_type": "markdown",
   "metadata": {},
   "source": [
    "**2. Use SeatGeek to collect data on upcoming concerts**"
   ]
  },
  {
   "cell_type": "code",
   "execution_count": 156,
   "metadata": {},
   "outputs": [],
   "source": [
    "artist = \"https://api.seatgeek.com/2/performers?slug=ed-sheeran&client_id=<client_id>\"\n",
    "\n",
    "#url = api_root_url + url_params\n",
    "seatgeek = requests.get(artist).json()"
   ]
  },
  {
   "cell_type": "code",
   "execution_count": 21,
   "metadata": {},
   "outputs": [],
   "source": [
    "#Get event data. Creates 1 list that contains everything here, easy to loop for each artist later on\n",
    "def get_event_data_seatgeek(artist):\n",
    "    ''' Fetches upcoming concert/events information'''\n",
    "    artist = artist.lower().replace(\" \", \"-\")\n",
    "    url = \"https://api.seatgeek.com/2/events?performers.slug=\" + artist + \"&client_id=<client_id>\"\n",
    "    events = requests.get(url).json()['events']\n",
    "    events_list = []\n",
    "    for i in range(len(events)-1):\n",
    "        dict_event = {}\n",
    "        dict_event['artist'] = artist\n",
    "        dict_event['title'] = events[i]['short_title'] #title\n",
    "        dict_event['concert_date'] = datetime.strptime(events[i]['datetime_utc'][0:10], '%Y-%m-%d') #datetime of performance\n",
    "        dict_event['address'] = events[0]['venue']['address'] + ', ' + events[0]['venue']['extended_address'] #address\n",
    "        dict_event['venue'] = events[0]['venue']['name'].lower().replace(\" \", \"-\")#venue name\n",
    "        dict_event['lat'] = events[i]['venue']['location']['lat'] #latitude\n",
    "        dict_event['lat'] = events[i]['venue']['location']['lon'] #longitude\n",
    "        dict_event['average_price'] = events[i]['stats']['average_price'] #average price\n",
    "        dict_event['highest_price'] = events[i]['stats']['highest_price'] #highest price\n",
    "        dict_event['lowest_price'] = events[i]['stats']['lowest_price'] #lowest price\n",
    "        dict_event['good_deals'] = events[i]['stats']['lowest_price_good_deals'] #best deal\n",
    "        events_list.append(dict_event)\n",
    "    return events_list"
   ]
  },
  {
   "cell_type": "code",
   "execution_count": 20,
   "metadata": {},
   "outputs": [
    {
     "data": {
      "text/plain": [
       "{'meta': {'geolocation': None,\n",
       "  'page': 1,\n",
       "  'per_page': 10,\n",
       "  'took': 1,\n",
       "  'total': 1},\n",
       " 'performers': [{'colors': None,\n",
       "   'divisions': None,\n",
       "   'genres': [{'id': 452, 'name': 'Pop', 'primary': True, 'slug': 'pop'},\n",
       "    {'id': 456, 'name': 'Rock', 'primary': False, 'slug': 'rock'},\n",
       "    {'id': 467, 'name': 'Folk', 'primary': False, 'slug': 'folk'}],\n",
       "   'has_upcoming_events': True,\n",
       "   'home_venue_id': None,\n",
       "   'id': 13546,\n",
       "   'image': 'https://chairnerd.global.ssl.fastly.net/images/performers-landscape/ed-sheeran-a111f3/13546/huge.jpg',\n",
       "   'image_attribution': None,\n",
       "   'image_license': None,\n",
       "   'images': {'huge': 'https://chairnerd.global.ssl.fastly.net/images/performers-landscape/ed-sheeran-a111f3/13546/huge.jpg'},\n",
       "   'links': [],\n",
       "   'name': 'Ed Sheeran',\n",
       "   'num_upcoming_events': 19,\n",
       "   'popularity': 0.0,\n",
       "   'score': 0.7799999714,\n",
       "   'short_name': 'Ed Sheeran',\n",
       "   'slug': 'ed-sheeran',\n",
       "   'stats': {'event_count': 19},\n",
       "   'taxonomies': [{'id': 2000000, 'name': 'concert', 'parent_id': None}],\n",
       "   'type': 'band',\n",
       "   'url': 'https://seatgeek.com/ed-sheeran-tickets'}]}"
      ]
     },
     "execution_count": 20,
     "metadata": {},
     "output_type": "execute_result"
    }
   ],
   "source": [
    "seatgeek"
   ]
  },
  {
   "cell_type": "markdown",
   "metadata": {},
   "source": [
    "# Creating Upcoming Concerts Database"
   ]
  },
  {
   "cell_type": "code",
   "execution_count": null,
   "metadata": {},
   "outputs": [],
   "source": [
    "#Connecting to MySQL database\n",
    "con = mdb.connect(host = 'localhost', \n",
    "                  user = 'root',\n",
    "                  passwd = '<password>', \n",
    "                  charset='utf8', use_unicode=True);"
   ]
  },
  {
   "cell_type": "code",
   "execution_count": null,
   "metadata": {},
   "outputs": [],
   "source": [
    "# Run a query to create a database that will hold the data\n",
    "db_name = 'SeatGeek'\n",
    "create_db_query = \"CREATE DATABASE IF NOT EXISTS {db} DEFAULT CHARACTER SET 'utf8'\".format(db=db_name)\n",
    "\n",
    "# Create a database\n",
    "cursor = con.cursor()\n",
    "cursor.execute(create_db_query)\n",
    "cursor.close()"
   ]
  },
  {
   "cell_type": "code",
   "execution_count": null,
   "metadata": {},
   "outputs": [],
   "source": [
    "#Create a table for Trending_Descriptions (static data)\n",
    "cursor = con.cursor()\n",
    "table_name = 'Core'\n",
    "# Create a table\n",
    "# The {db} and {table} are placeholders for the parameters in the format(....) statement\n",
    "create_table_query = '''CREATE TABLE IF NOT EXISTS {db}.{table} \n",
    "                                (hotel_name varchar(250), \n",
    "                                publish_date datetime,\n",
    "                                price int,\n",
    "                                labels varchar(250),\n",
    "                                image_url varchar(250),\n",
    "                                PRIMARY KEY(hotel_name, publish_date)\n",
    "                                )'''.format(db=db_name, table=table_name)\n",
    "cursor.execute(create_table_query)\n",
    "cursor.close()"
   ]
  },
  {
   "cell_type": "code",
   "execution_count": null,
   "metadata": {},
   "outputs": [],
   "source": [
    "# Scraping for hotel name, price, labels and image url for first 150 hotels\n",
    "#Creating description table and fetch data \n",
    "cursor = con.cursor()\n",
    "table_name = 'Core'\n",
    "\n",
    "query_template = '''INSERT IGNORE INTO {db}.{table}(hotel_name, \n",
    "                                            publish_date,\n",
    "                                            price,\n",
    "                                            labels,\n",
    "                                            image_url) \n",
    "                                            VALUES (%s, %s, %s, %s, %s)'''.format(db=db_name, table=table_name)\n",
    "\n",
    "cursor = con.cursor()\n",
    "\n",
    "for url in url_list:\n",
    "    listing = listing_maker(url)\n",
    "    for i in listing:\n",
    "        hotel_name = get_name(i)\n",
    "        publish_date = datetime.now(timezone('America/New_York')).strftime(\"%Y-%m-%d %H:%M:%S %Z%z\")\n",
    "        price = get_price(i)\n",
    "        labels = get_labels(i)\n",
    "        image_url = get_image(i)\n",
    "        \n",
    "        query_parameters = (hotel_name, publish_date, price, labels, image_url)\n",
    "        cursor.execute(query_template, query_parameters)\n",
    "\n",
    "con.commit()\n",
    "cursor.close()"
   ]
  }
 ],
 "metadata": {
  "kernelspec": {
   "display_name": "Python [default]",
   "language": "python",
   "name": "python3"
  },
  "language_info": {
   "codemirror_mode": {
    "name": "ipython",
    "version": 3
   },
   "file_extension": ".py",
   "mimetype": "text/x-python",
   "name": "python",
   "nbconvert_exporter": "python",
   "pygments_lexer": "ipython3",
   "version": "3.5.2"
  }
 },
 "nbformat": 4,
 "nbformat_minor": 2
}
