{
 "cells": [
  {
   "cell_type": "markdown",
   "metadata": {},
   "source": [
    "# Backend Database (Part 2: SeatGeek)\n",
    "\n",
    "The foundation of our backend is to have an extensive list of artist and information relevant to them. We will use X different APIs to collect various information:\n",
    "\n",
    "1. lastfm API to gather a long list of artists, mainly those popular in the US.\n",
    "2. **SeatGeek API to gather data on upcoming concerts, particularly ticket pricing and concert size.**"
   ]
  },
  {
   "cell_type": "code",
   "execution_count": 3,
   "metadata": {},
   "outputs": [],
   "source": [
    "import pandas as pd\n",
    "import requests\n",
    "from datetime import datetime\n",
    "from pytz import timezone\n",
    "import re\n",
    "import MySQLdb as mdb\n",
    "import sys\n",
    "import pickle"
   ]
  },
  {
   "cell_type": "markdown",
   "metadata": {},
   "source": [
    "## Fetch a list of artist names from a pickled list (originally lastfm data)\n",
    "\n",
    "The idea here is that we do not want to overload the API with requests (the number of artists is 9029 artists), which is likely to result in a `429 Too Many Requests` status code. Therefore, we will create the input like this:\n",
    "\n",
    "1. Read a pickled file containing all the artist names, already formatted to plug into API\n",
    "2. Index only [0:20] of the list, so we limit our queries to 20 names at a time.\n",
    "3. Shift the entire list by 20 units by defining a `shift` function.\n",
    "4. Save the shifted list by pickling it.\n",
    "5. Repeat!\n",
    "\n",
    "This helps to avoid a 429 error and allows us to run the program on crontab without having to manually change the artists being queried."
   ]
  },
  {
   "cell_type": "code",
   "execution_count": 4,
   "metadata": {},
   "outputs": [],
   "source": [
    "#A function that shifts the list each time\n",
    "def shift(pickled_list, n):\n",
    "    return pickled_list[n:] + pickled_list[:n]"
   ]
  },
  {
   "cell_type": "code",
   "execution_count": 5,
   "metadata": {},
   "outputs": [],
   "source": [
    "#Open pickled file containing the artist names\n",
    "fileObject = open(\"/home/ubuntu/jupyter/Student_Notebooks/Assignments/Project/Crontab/seatgeek_artist_name_list\",'rb') \n",
    "old_pickled_list = pickle.load(fileObject)"
   ]
  },
  {
   "cell_type": "code",
   "execution_count": 14,
   "metadata": {},
   "outputs": [],
   "source": [
    "#Restricting the search to 20 artists \n",
    "list_20 = old_pickled_list[0:20]"
   ]
  },
  {
   "cell_type": "markdown",
   "metadata": {},
   "source": [
    "## Upcoming Concerts Information"
   ]
  },
  {
   "cell_type": "code",
   "execution_count": 10,
   "metadata": {},
   "outputs": [],
   "source": [
    "#Function for Table 1. This gets a list of upcoming events and related information\n",
    "def get_event_data_seatgeek(artist):\n",
    "    ''' Fetches upcoming concert/events information'''\n",
    "    url = \"https://api.seatgeek.com/2/events?performers.slug={}&client_id=<clientid>\".format(artist)\n",
    "    try:\n",
    "        if requests.get(url).json()['events'] != None:\n",
    "            events = requests.get(url).json()['events']\n",
    "            events_list = []\n",
    "            for i in range(len(events)-1):\n",
    "                dict_event = {}\n",
    "                dict_event['artist'] = artist\n",
    "                dict_event['title'] = events[i]['short_title'] #title\n",
    "                dict_event['concert_date'] = datetime.strptime(events[i]['datetime_utc'][0:10], '%Y-%m-%d') #datetime of performance\n",
    "                dict_event['address'] = events[0]['venue']['address'] + ', ' + events[0]['venue']['extended_address'] #address\n",
    "                dict_event['venue'] = events[0]['venue']['name'].lower().replace(\" \", \"-\")#venue name\n",
    "                dict_event['lat'] = events[i]['venue']['location']['lat'] #latitude\n",
    "                dict_event['lon'] = events[i]['venue']['location']['lon'] #longitude\n",
    "                dict_event['average_price'] = events[i]['stats']['average_price'] #average price\n",
    "                dict_event['highest_price'] = events[i]['stats']['highest_price'] #highest price\n",
    "                dict_event['lowest_price'] = events[i]['stats']['lowest_price'] #lowest price\n",
    "                dict_event['good_deals'] = events[i]['stats']['lowest_price_good_deals'] #best deal\n",
    "                events_list.append(dict_event)\n",
    "            return events_list\n",
    "        else:\n",
    "            None\n",
    "    except:\n",
    "        None"
   ]
  },
  {
   "cell_type": "code",
   "execution_count": 12,
   "metadata": {},
   "outputs": [],
   "source": [
    "#For loop to get all the results in one list\n",
    "input_list = []\n",
    "for name in list_20:\n",
    "    input_list.append(get_event_data_seatgeek(name))    "
   ]
  },
  {
   "cell_type": "code",
   "execution_count": 13,
   "metadata": {},
   "outputs": [],
   "source": [
    "#Get rid of artists that have no upcoming concerts, or are not on the Seatgeek database\n",
    "input_list = [x for x in input_list if x != None] \n",
    "input_list = [x for x in input_list if x != []]"
   ]
  },
  {
   "cell_type": "code",
   "execution_count": 15,
   "metadata": {},
   "outputs": [],
   "source": [
    "#Connecting to MySQL database\n",
    "con = mdb.connect(host = 'localhost', \n",
    "                  user = 'root',\n",
    "                  passwd = '<password>', \n",
    "                  charset='utf8', use_unicode=True);"
   ]
  },
  {
   "cell_type": "code",
   "execution_count": 16,
   "metadata": {},
   "outputs": [
    {
     "name": "stderr",
     "output_type": "stream",
     "text": [
      "/usr/local/lib/python3.5/dist-packages/ipykernel_launcher.py:19: Warning: (1050, \"Table 'seatgeek_concerts' already exists\")\n"
     ]
    }
   ],
   "source": [
    "#Create a table for SeatGeek Concerts\n",
    "cursor = con.cursor()\n",
    "table_name = 'seatgeek_concerts'\n",
    "\n",
    "create_table_query = '''CREATE TABLE IF NOT EXISTS {db}.{table} \n",
    "                                (artist varchar(250), \n",
    "                                concert_date datetime,\n",
    "                                average_price int,\n",
    "                                highest_price int,\n",
    "                                lowest_price int,\n",
    "                                good_deals int,\n",
    "                                address varchar(250),\n",
    "                                venue varchar(250),\n",
    "                                latitude int,\n",
    "                                longitude int,\n",
    "                                update_time datetime,\n",
    "                                PRIMARY KEY(artist, concert_date)\n",
    "                                )'''.format(db='Project', table=table_name)\n",
    "cursor.execute(create_table_query)\n",
    "cursor.close()"
   ]
  },
  {
   "cell_type": "code",
   "execution_count": 17,
   "metadata": {},
   "outputs": [],
   "source": [
    "#Insert concert data\n",
    "cursor = con.cursor()\n",
    "table_name = 'seatgeek_concerts'\n",
    "\n",
    "query_template = '''INSERT IGNORE INTO {db}.{table}(artist, \n",
    "                                            concert_date,\n",
    "                                            average_price,\n",
    "                                            highest_price,\n",
    "                                            lowest_price,\n",
    "                                            good_deals,\n",
    "                                            address,\n",
    "                                            venue,\n",
    "                                            latitude,\n",
    "                                            longitude,\n",
    "                                            update_time) \n",
    "                                            VALUES (%s, %s, %s, %s, %s, %s, %s, %s, %s, %s, %s)'''.format(db=\"Project\", table=table_name)\n",
    "\n",
    "cursor = con.cursor()\n",
    "\n",
    "\n",
    "\n",
    "for data in input_list:\n",
    "    if data != None:\n",
    "        for j in range(len(data)):\n",
    "            artist = data[j]['artist']\n",
    "            concert_date = data[j]['concert_date']\n",
    "            average_price = data[j]['average_price']\n",
    "            highest_price = data[j]['highest_price']\n",
    "            lowest_price = data[j]['lowest_price']\n",
    "            good_deals = data[j]['good_deals']\n",
    "            address = data[j]['address']\n",
    "            venue = data[j]['venue']\n",
    "            latitude = data[j]['lat']\n",
    "            longitude = data[j]['lon']\n",
    "            update_time = datetime.now(timezone('America/New_York')).strftime(\"%Y-%m-%d %H:%M:%S %Z%z\")\n",
    "            \n",
    "            query_parameters = (artist, concert_date, average_price, highest_price,\n",
    "                            lowest_price, good_deals, address, venue,\n",
    "                            latitude, longitude, update_time)\n",
    "            cursor.execute(query_template, query_parameters)\n",
    "\n",
    "con.commit()\n",
    "cursor.close()"
   ]
  },
  {
   "cell_type": "markdown",
   "metadata": {},
   "source": [
    "## B) Artists' Information"
   ]
  },
  {
   "cell_type": "code",
   "execution_count": null,
   "metadata": {},
   "outputs": [],
   "source": [
    "#Functions for Table 2. This gets SeatGeek information on each artist.\n",
    "def get_genres(info_artist):\n",
    "    ''' Function to get the genres'''\n",
    "    string = \"\"\n",
    "    genres = info_artist['performers'][0]['genres']\n",
    "    for i in range(len(genres)):\n",
    "        string += genres[i]['slug'] + \"/\"\n",
    "    return string\n",
    "\n",
    "def get_artist_data_seatgeek(artist):\n",
    "    ''' Function to get SeatGeek data on each artist. Quite limited but could be useful'''\n",
    "    url = \"https://api.seatgeek.com/2/performers?slug=\" + artist + \"&client_id=<clientid>\"\n",
    "    try:\n",
    "        if requests.get(url).json() != None:\n",
    "            info_artist = requests.get(url).json()\n",
    "            infolist = {}\n",
    "            infolist['name'] = artist\n",
    "            infolist['popularity'] = info_artist['performers'][0]['score']\n",
    "            infolist['genres'] = get_genres(info_artist)\n",
    "        return infolist\n",
    "    except:\n",
    "        None"
   ]
  },
  {
   "cell_type": "code",
   "execution_count": null,
   "metadata": {},
   "outputs": [],
   "source": [
    "#Connecting to MySQL database\n",
    "con = mdb.connect(host = 'localhost', \n",
    "                  user = 'root',\n",
    "                  passwd = '<password>', \n",
    "                  charset='utf8', use_unicode=True);"
   ]
  },
  {
   "cell_type": "code",
   "execution_count": null,
   "metadata": {},
   "outputs": [],
   "source": [
    "#Create a table for SeatGeek Artists\n",
    "cursor = con.cursor()\n",
    "table_name = 'seatgeek_artists'\n",
    "\n",
    "create_table_query = '''CREATE TABLE IF NOT EXISTS {db}.{table} \n",
    "                                (artist varchar(250), \n",
    "                                popularity varchar(250),\n",
    "                                genres varchar(250),\n",
    "                                PRIMARY KEY(artist)\n",
    "                                )'''.format(db='Project', table=table_name)\n",
    "cursor.execute(create_table_query)\n",
    "cursor.close()"
   ]
  },
  {
   "cell_type": "code",
   "execution_count": null,
   "metadata": {},
   "outputs": [],
   "source": [
    "#Insert artist data\n",
    "cursor = con.cursor()\n",
    "table_name = 'seatgeek_artists'\n",
    "\n",
    "query_template = '''INSERT IGNORE INTO {db}.{table}(artist, \n",
    "                                            popularity,\n",
    "                                            genres) \n",
    "                                            VALUES (%s, %s, %s)'''.format(db=\"Project\", table=table_name)\n",
    "\n",
    "cursor = con.cursor()\n",
    "\n",
    "\n",
    "for name in list_20:\n",
    "    dict1 = get_artist_data_seatgeek(name)\n",
    "    if dict1 != None:\n",
    "        artist = name\n",
    "        popularity = dict1['popularity']\n",
    "        genres = dict1['genres']\n",
    "    \n",
    "        query_parameters = (artist, popularity, genres)\n",
    "        cursor.execute(query_template, query_parameters)\n",
    "\n",
    "con.commit()\n",
    "cursor.close()"
   ]
  },
  {
   "cell_type": "markdown",
   "metadata": {},
   "source": [
    "## Shift the entire list and pickle the new list to replace file"
   ]
  },
  {
   "cell_type": "code",
   "execution_count": 17,
   "metadata": {},
   "outputs": [],
   "source": [
    "shifted_list_names = shift(old_pickled_list, 20)"
   ]
  },
  {
   "cell_type": "code",
   "execution_count": null,
   "metadata": {},
   "outputs": [],
   "source": [
    "#Updating pickle file with current artists\n",
    "file_Name = \"/home/ubuntu/jupyter/Student_Notebooks/Assignments/Project/Crontab/seatgeek_artist_name_list\"\n",
    "fileObject = open(file_Name,'wb') \n",
    "\n",
    "pickle.dump(shifted_list_names,fileObject)\n",
    "fileObject.close()"
   ]
  },
  {
   "cell_type": "code",
   "execution_count": null,
   "metadata": {},
   "outputs": [],
   "source": []
  }
 ],
 "metadata": {
  "kernelspec": {
   "display_name": "Python [default]",
   "language": "python",
   "name": "python3"
  },
  "language_info": {
   "codemirror_mode": {
    "name": "ipython",
    "version": 3
   },
   "file_extension": ".py",
   "mimetype": "text/x-python",
   "name": "python",
   "nbconvert_exporter": "python",
   "pygments_lexer": "ipython3",
   "version": "3.5.2"
  }
 },
 "nbformat": 4,
 "nbformat_minor": 2
}
