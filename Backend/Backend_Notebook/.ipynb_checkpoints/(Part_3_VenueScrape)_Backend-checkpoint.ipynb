{
 "cells": [
  {
   "cell_type": "markdown",
   "metadata": {},
   "source": [
    "# Backend Database (Part 3: Venue Data)\n",
    "\n",
    "The foundation of our backend is to have an extensive list of artist and information relevant to them. We will use X different APIs to collect various information:\n",
    "\n",
    "1. lastfm API to gather a long list of artists, mainly those popular in the US.\n",
    "2. SeatGeek API to gather data on upcoming concerts, particularly ticket pricing and concert size.\n",
    "3. **Scrape SeatGeek website for capacity information on concert venues.**\n",
    "4. Songkick API to retrieve data on historical concerts.\n",
    "5. Scrape Billboard website for recent successful concerts. Includes information like revenue and attendance."
   ]
  },
  {
   "cell_type": "code",
   "execution_count": 1,
   "metadata": {},
   "outputs": [],
   "source": [
    "from bs4 import BeautifulSoup \n",
    "import requests\n",
    "import re\n",
    "import MySQLdb as mdb\n",
    "import sys"
   ]
  },
  {
   "cell_type": "code",
   "execution_count": 2,
   "metadata": {},
   "outputs": [],
   "source": [
    "url = \"https://seatgeek.com/tba/articles/capacities-sizes/#heading-274897014459836830\""
   ]
  },
  {
   "cell_type": "code",
   "execution_count": 3,
   "metadata": {},
   "outputs": [],
   "source": [
    "#Functions to scrap and format information from website\n",
    "\n",
    "def venue_scrapper(url):\n",
    "    ''' Function which scraps the table from SeatGeek's blog. The blog contains\n",
    "    internal data on different venues with capacity.'''\n",
    "    venues = requests.get(url)\n",
    "    venues_soup = BeautifulSoup(venues.text, 'html.parser')\n",
    "    table = []\n",
    "    tr = venues_soup.findAll('tr')\n",
    "    for i in range(1, len(tr)): #skip headers\n",
    "        row = tr[i].findAll('td') #get each row, which is denoted by td\n",
    "        row = [str(r) for r in row] #convert to string\n",
    "        row = [r.replace('<td>', '') for r in row] #remove <td>\n",
    "        row = [r.replace('</td>', '') for r in row] #remove </td>\n",
    "        table.append(row)\n",
    "    return table\n",
    "\n",
    "def name_change(table):\n",
    "    ''' Function changes the venue name to lowercase and removes blank spaces.\n",
    "    We will be using venue name to match the other table, so it is important\n",
    "    the names are consistent'''\n",
    "    for i in range(len(table)):\n",
    "        table[i][0] = table[i][0].lower().replace(\" \", \"-\")\n",
    "    return table"
   ]
  },
  {
   "cell_type": "code",
   "execution_count": 4,
   "metadata": {},
   "outputs": [
    {
     "data": {
      "text/plain": [
       "['may-day-stadium', 'Pyongyang', 'North Korea', '150000', 'n/a']"
      ]
     },
     "execution_count": 4,
     "metadata": {},
     "output_type": "execute_result"
    }
   ],
   "source": [
    "#Creating the table\n",
    "table = venue_scrapper(url)\n",
    "table = name_change(table)\n",
    "\n",
    "table[0]"
   ]
  },
  {
   "cell_type": "markdown",
   "metadata": {},
   "source": [
    "## Creating Venue Database"
   ]
  },
  {
   "cell_type": "code",
   "execution_count": 5,
   "metadata": {},
   "outputs": [],
   "source": [
    "#Connecting to MySQL database\n",
    "con = mdb.connect(host = 'localhost', \n",
    "                  user = 'root',\n",
    "                  passwd = '<password>', \n",
    "                  charset='utf8', use_unicode=True);"
   ]
  },
  {
   "cell_type": "code",
   "execution_count": 6,
   "metadata": {},
   "outputs": [
    {
     "name": "stderr",
     "output_type": "stream",
     "text": [
      "/usr/local/lib/python3.5/dist-packages/ipykernel_launcher.py:7: Warning: (1007, \"Can't create database 'Project'; database exists\")\n",
      "  import sys\n"
     ]
    }
   ],
   "source": [
    "# Run a query to create a database that will hold the data\n",
    "db_name = 'Project'\n",
    "create_db_query = \"CREATE DATABASE IF NOT EXISTS {db} DEFAULT CHARACTER SET 'utf8'\".format(db=db_name)\n",
    "\n",
    "# Create a database\n",
    "cursor = con.cursor()\n",
    "cursor.execute(create_db_query)\n",
    "cursor.close()"
   ]
  },
  {
   "cell_type": "code",
   "execution_count": 12,
   "metadata": {},
   "outputs": [],
   "source": [
    "#Create a table for Trending_Descriptions (static data)\n",
    "cursor = con.cursor()\n",
    "table_name = 'venues'\n",
    "# Create a table\n",
    "# The {db} and {table} are placeholders for the parameters in the format(....) statement\n",
    "create_table_query = '''CREATE TABLE IF NOT EXISTS {db}.{table} \n",
    "                                (venue varchar(250), \n",
    "                                city varchar(250),\n",
    "                                state varchar(250),\n",
    "                                capacity int,\n",
    "                                PRIMARY KEY(venue, city)\n",
    "                                )'''.format(db=db_name, table=table_name)\n",
    "cursor.execute(create_table_query)\n",
    "cursor.close()"
   ]
  },
  {
   "cell_type": "code",
   "execution_count": 13,
   "metadata": {
    "scrolled": true
   },
   "outputs": [
    {
     "name": "stderr",
     "output_type": "stream",
     "text": [
      "/usr/local/lib/python3.5/dist-packages/ipykernel_launcher.py:21: Warning: (1062, \"Duplicate entry 'memorial-stadium-Lincoln, Nebraska' for key 'PRIMARY'\")\n",
      "/usr/local/lib/python3.5/dist-packages/ipykernel_launcher.py:21: Warning: (1062, \"Duplicate entry 'commonwealth-stadium-Lexington' for key 'PRIMARY'\")\n"
     ]
    }
   ],
   "source": [
    "#Creating description table and fetch data \n",
    "cursor = con.cursor()\n",
    "table_name = 'venues'\n",
    "\n",
    "query_template = '''INSERT IGNORE INTO {db}.{table}(venue, \n",
    "                                            city,\n",
    "                                            state,\n",
    "                                            capacity) \n",
    "                                            VALUES (%s, %s, %s, %s)'''.format(db=db_name, table=table_name)\n",
    "\n",
    "cursor = con.cursor()\n",
    "\n",
    " \n",
    "for row in table:\n",
    "    venue = row[0]\n",
    "    city = row[1]\n",
    "    state = row[2]\n",
    "    capacity = int(row[3])\n",
    "    \n",
    "    query_parameters = (venue, city, state, capacity)\n",
    "    cursor.execute(query_template, query_parameters)\n",
    "\n",
    "con.commit()\n",
    "cursor.close()"
   ]
  },
  {
   "cell_type": "code",
   "execution_count": null,
   "metadata": {},
   "outputs": [],
   "source": []
  }
 ],
 "metadata": {
  "kernelspec": {
   "display_name": "Python [default]",
   "language": "python",
   "name": "python3"
  },
  "language_info": {
   "codemirror_mode": {
    "name": "ipython",
    "version": 3
   },
   "file_extension": ".py",
   "mimetype": "text/x-python",
   "name": "python",
   "nbconvert_exporter": "python",
   "pygments_lexer": "ipython3",
   "version": "3.5.2"
  }
 },
 "nbformat": 4,
 "nbformat_minor": 2
}
