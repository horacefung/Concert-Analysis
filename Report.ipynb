{
 "cells": [
  {
   "cell_type": "markdown",
   "metadata": {},
   "source": [
    "# Sound Check\n",
    "\n",
    "\n",
    "<img src=\"images/frontpage1.png\">\n",
    "\n",
    "Sound Check is a data product (website) that aims to provide a new perspective into how artists should plan their concerts. By consolidating data about concerts, ticket pricing, streaming numbers and more, we aim to unravel the drivers that determines a successful concert. The Sound Check website has 2 main functions: **1)** `Overview` and **2)** `Insights`. \n",
    "\n",
    "____"
   ]
  },
  {
   "cell_type": "markdown",
   "metadata": {},
   "source": [
    "## 1) Overview \n",
    "\n",
    "\n",
    "`Overview` is designed to provide general information on how the concert landscape is like in the US. \n",
    "\n",
    "The first function is a series of interactive photos showing artists that held the most number of concerts in the US for the past 5 years. By hovering around the image, it will flip and display more information such as upcoming concert and average ticket price.\n",
    "\n",
    "<img src=\"images/top_artist.jpg\">\n",
    "\n",
    "The second function is an interactive map that shows the location of concerts in the past 5 years, and the bubble size reflects the number of concerts held. Moreover, the user can click on the bubble to get exact values. We hope that this visualization can help users understand which cities are the most popular and are interesting to look deeper into through the `Insights` page\n",
    "\n",
    "<img src=\"images/location.png\">"
   ]
  },
  {
   "cell_type": "markdown",
   "metadata": {},
   "source": [
    "## 2) Insights"
   ]
  },
  {
   "cell_type": "markdown",
   "metadata": {},
   "source": [
    "`Insights` provides more specific information based on user input. The user can specify the **genre**, **location** and **concert time period** to generate a personalized dashboard that aims to slice the data from different perspectives.\n",
    "\n",
    "<img src=\"images/insight_search.png\">\n",
    "\n",
    "**Price Time Series**\n",
    "\n",
    "The first graph is a simple time series of average prices for the location over the selected time period. In general, we found that prices tend to be unpredictable across the country. But we think that sudden jolts in the price could be valuable information to the user, as it may indicate certain events like Christmas which may affect concert demand and ultimately prices. \n",
    "\n",
    "<img src=\"images/time-series.png\">\n",
    "\n",
    "**Price Distribution**\n",
    "\n",
    "The second graph plots kde functions for prices in the selected location versus the entire US. It also includes color coded mean lines to help with the comparison. This can help users understand whether concert-goers are expecting higher or lower prices compared to the national average. The distribution itself also helps to show how the market segments. In the states we looked at, pricing tends to be bimodal, with one group commanding a higher ticket price. User can decide for themselves whether they can also release tickets at a higher price.\n",
    "\n",
    "<img src=\"images/comparison1.png\">\n",
    "\n",
    "**Heatmap (Year vs Month)**\n",
    "\n",
    "The heatmap is a great way of showing seasonal and general trends in the popularity of concerts in a state. The heatmap is color-coded to provide an easy intuitive sense of what time concerts are hotter. However, there are also number annotations for the actual figures. \n",
    "\n",
    "<img src=\"images/heatmap.png\" width=\"70%\">\n",
    "\n",
    "**Dot Plots**\n",
    "\n",
    "The dot plots help to breakdown the top 50 most frequent performers in the state. The 1st column is arranged in descending order based on number of concerts held. The 2nd column compares the artists' popularity rating. The 3rd column compares the artists headlines (how many times they have been the main performer of a show). We found this particularly interesting as the list rarely has any big names. Our hypothesis is that most of the famous muscians often go on tours and perform in a wide range of locations. Therefore, the muscians that our user will most likely compete with on any given night are actually local muscians that perform frequently.\n",
    "\n",
    "<img src=\"images/pairplot2017-12-130_01_17.104317-1.png\" width=\"70%\">\n",
    "\n",
    "**Joint Plots**\n",
    "\n",
    "The joint plots are genre specific. They show the distribution of prices for the genre as well as popularity and streaming numbers. In addition, the main graph is a linear regression of price vs popularity or price vs playcount. In general, we found it interesting that there is very little correlation between streaming numbers and ticket pricing according to our data. In addition, there are some genres like country where streaming numbers are extraordinarily low but ticket prices are high, suggesting that fans prefer to watch a live show.\n",
    "\n",
    "<img src=\"images/popularityjoint.png\" width=\"50%\">\n",
    "<img src=\"images/streamjoint.png\" width=\"50%\">"
   ]
  },
  {
   "cell_type": "markdown",
   "metadata": {},
   "source": [
    "## Backend\n",
    "\n",
    "The backend comprises of Lastfm, Seatgeek and Songkick data. We used their APIs to retreive a large quantity of concert and artists information which is stored in our MySQL database. The biggest problem we faced was how to collect a large volume of data without reaching the rate limit. We had to query over 5,000 artists names and each artist returns a large response (e.g. 1 artist from Songkick returns 250 concert details over 5 years). We ended up creating pickled lists of the artists names, and shifting that list by 20-30 units every time the script runs. This helped to manage the volume of data for each run while also making sure we get through the 5,000 names each time.\n",
    "\n",
    "The database mainly uses artist names as the primary key (and sometimes date as well). We cleaned the artists names by replacing spaces with \"-\" and also removing punctuations. While this definitely removed some artists names from our list, we found that these were very very obscure artists (like the group !!!). In general, the APIs were responsive to our names format and we were able to link our tables together quite seamlessly. \n",
    "\n",
    "<img src=\"images/database.png\">"
   ]
  }
 ],
 "metadata": {
  "kernelspec": {
   "display_name": "Python [default]",
   "language": "python",
   "name": "python3"
  },
  "language_info": {
   "codemirror_mode": {
    "name": "ipython",
    "version": 3
   },
   "file_extension": ".py",
   "mimetype": "text/x-python",
   "name": "python",
   "nbconvert_exporter": "python",
   "pygments_lexer": "ipython3",
   "version": "3.5.2"
  }
 },
 "nbformat": 4,
 "nbformat_minor": 2
}
